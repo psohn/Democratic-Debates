{
 "cells": [
  {
   "cell_type": "markdown",
   "metadata": {},
   "source": [
    "<img src=https://shifthappens.com/wp-content/uploads/2013/08/Martin-Luther-King-I-have-a-dream.jpg width=\"300\" align = \"left\">\n",
    "<img src=https://cdn.cnn.com/cnnnext/dam/assets/170428143345-trump-nra-forum-border-wall-easy-one-bts-nr-00005306.jpg width=\"300\" align = \"center\">\n",
    "<img src=https://lostinfood.it/wp-content/uploads/2016/11/YES-WE-CAN.jpg width=\"300\" align = \"right\">"
   ]
  },
  {
   "cell_type": "markdown",
   "metadata": {},
   "source": [
    "## Introduction\n",
    "\n",
    "I have a dream. We will build a wall. Yes we can. \n",
    "\n",
    "Politicians, leaders, celebrities... they all have a certain appeal to them whether it be their physical or intellectual attributes. We all remember Barack Obama because he instilled a message of hope. We remember him because he was charismatic. We remember him because he was a stepping stone in breaking racial inequity. But what makes inspirational leaders like Barack Obama able to instill this message of hope? What makes him charismatic? \n",
    "\n",
    "Using natural language processing (NLP), we hope to explore what makes some people stand out in their speeches. "
   ]
  },
  {
   "cell_type": "markdown",
   "metadata": {},
   "source": [
    "## Cleaning\n",
    "\n",
    "We have a set of transcripts from the Democrat debates leading up to the 2020 election which we will explore and analyze. First, we load the data."
   ]
  },
  {
   "cell_type": "code",
   "execution_count": 1,
   "metadata": {},
   "outputs": [],
   "source": [
    "### importing libraries ###\n",
    "\n",
    "import pandas as pd\n",
    "import nltk\n",
    "import matplotlib.pyplot as plt\n",
    "import seaborn as sns\n",
    "import string\n",
    "from sklearn.feature_extraction.text import CountVectorizer\n",
    "from sklearn.preprocessing import MinMaxScaler\n",
    "from nltk.corpus import stopwords\n",
    "from gensim import corpora, models, similarities\n",
    "from gensim.parsing.preprocessing import preprocess_string"
   ]
  },
  {
   "cell_type": "code",
   "execution_count": 2,
   "metadata": {},
   "outputs": [
    {
     "data": {
      "text/html": [
       "<div>\n",
       "<style scoped>\n",
       "    .dataframe tbody tr th:only-of-type {\n",
       "        vertical-align: middle;\n",
       "    }\n",
       "\n",
       "    .dataframe tbody tr th {\n",
       "        vertical-align: top;\n",
       "    }\n",
       "\n",
       "    .dataframe thead th {\n",
       "        text-align: right;\n",
       "    }\n",
       "</style>\n",
       "<table border=\"1\" class=\"dataframe\">\n",
       "  <thead>\n",
       "    <tr style=\"text-align: right;\">\n",
       "      <th></th>\n",
       "      <th>debate_name</th>\n",
       "      <th>debate_section</th>\n",
       "      <th>speaker</th>\n",
       "      <th>speech</th>\n",
       "      <th>speaking_time_seconds</th>\n",
       "    </tr>\n",
       "  </thead>\n",
       "  <tbody>\n",
       "    <tr>\n",
       "      <th>0</th>\n",
       "      <td>New Hampshire Democratic Debate Transcript</td>\n",
       "      <td>Part 1</td>\n",
       "      <td>George S.</td>\n",
       "      <td>Candidates, welcome. Vice President Biden, the...</td>\n",
       "      <td>18.0</td>\n",
       "    </tr>\n",
       "    <tr>\n",
       "      <th>1</th>\n",
       "      <td>New Hampshire Democratic Debate Transcript</td>\n",
       "      <td>Part 1</td>\n",
       "      <td>Joe Biden</td>\n",
       "      <td>Oh, they didnt miss anything. Its a long rac...</td>\n",
       "      <td>36.0</td>\n",
       "    </tr>\n",
       "    <tr>\n",
       "      <th>2</th>\n",
       "      <td>New Hampshire Democratic Debate Transcript</td>\n",
       "      <td>Part 1</td>\n",
       "      <td>George S.</td>\n",
       "      <td>Why are Senator Sanders and Mayor Buttigieg to...</td>\n",
       "      <td>4.0</td>\n",
       "    </tr>\n",
       "    <tr>\n",
       "      <th>3</th>\n",
       "      <td>New Hampshire Democratic Debate Transcript</td>\n",
       "      <td>Part 1</td>\n",
       "      <td>Joe Biden</td>\n",
       "      <td>Well, you know that with regard to Senator San...</td>\n",
       "      <td>41.0</td>\n",
       "    </tr>\n",
       "    <tr>\n",
       "      <th>4</th>\n",
       "      <td>New Hampshire Democratic Debate Transcript</td>\n",
       "      <td>Part 1</td>\n",
       "      <td>George S.</td>\n",
       "      <td>Senator Sanders, let me give you the chance to...</td>\n",
       "      <td>21.0</td>\n",
       "    </tr>\n",
       "  </tbody>\n",
       "</table>\n",
       "</div>"
      ],
      "text/plain": [
       "                                  debate_name debate_section    speaker  \\\n",
       "0  New Hampshire Democratic Debate Transcript         Part 1  George S.   \n",
       "1  New Hampshire Democratic Debate Transcript         Part 1  Joe Biden   \n",
       "2  New Hampshire Democratic Debate Transcript         Part 1  George S.   \n",
       "3  New Hampshire Democratic Debate Transcript         Part 1  Joe Biden   \n",
       "4  New Hampshire Democratic Debate Transcript         Part 1  George S.   \n",
       "\n",
       "                                              speech  speaking_time_seconds  \n",
       "0  Candidates, welcome. Vice President Biden, the...                   18.0  \n",
       "1  Oh, they didnt miss anything. Its a long rac...                   36.0  \n",
       "2  Why are Senator Sanders and Mayor Buttigieg to...                    4.0  \n",
       "3  Well, you know that with regard to Senator San...                   41.0  \n",
       "4  Senator Sanders, let me give you the chance to...                   21.0  "
      ]
     },
     "execution_count": 2,
     "metadata": {},
     "output_type": "execute_result"
    }
   ],
   "source": [
    "### importing transcripts ###\n",
    "\n",
    "# encoding needs to be placed because there are nonASCII symbols that will cause an error when loading transcripts\n",
    "df = pd.read_csv('debate_transcripts.csv', encoding = 'unicode_escape')\n",
    "\n",
    "# checking to see if it worked\n",
    "df.head()"
   ]
  },
  {
   "cell_type": "markdown",
   "metadata": {},
   "source": [
    "The dataset has information containing which debate the transcript came from, the part of the debate, the speaker, the transcript, and how long the speech was for. First, we will look to see if there are any missing values."
   ]
  },
  {
   "cell_type": "code",
   "execution_count": 3,
   "metadata": {},
   "outputs": [
    {
     "data": {
      "text/plain": [
       "debate_name                0\n",
       "debate_section             0\n",
       "speaker                    0\n",
       "speech                     0\n",
       "speaking_time_seconds    513\n",
       "dtype: int64"
      ]
     },
     "execution_count": 3,
     "metadata": {},
     "output_type": "execute_result"
    }
   ],
   "source": [
    "### searching for null values ###\n",
    "\n",
    "df.isnull().sum()"
   ]
  },
  {
   "cell_type": "code",
   "execution_count": 4,
   "metadata": {},
   "outputs": [
    {
     "data": {
      "text/html": [
       "<div>\n",
       "<style scoped>\n",
       "    .dataframe tbody tr th:only-of-type {\n",
       "        vertical-align: middle;\n",
       "    }\n",
       "\n",
       "    .dataframe tbody tr th {\n",
       "        vertical-align: top;\n",
       "    }\n",
       "\n",
       "    .dataframe thead th {\n",
       "        text-align: right;\n",
       "    }\n",
       "</style>\n",
       "<table border=\"1\" class=\"dataframe\">\n",
       "  <thead>\n",
       "    <tr style=\"text-align: right;\">\n",
       "      <th></th>\n",
       "      <th>debate_name</th>\n",
       "      <th>debate_section</th>\n",
       "      <th>speaker</th>\n",
       "      <th>speech</th>\n",
       "      <th>speaking_time_seconds</th>\n",
       "    </tr>\n",
       "  </thead>\n",
       "  <tbody>\n",
       "    <tr>\n",
       "      <th>153</th>\n",
       "      <td>New Hampshire Democratic Debate Transcript</td>\n",
       "      <td>Part 1</td>\n",
       "      <td>George S.</td>\n",
       "      <td>We have much more today coming up, but we have...</td>\n",
       "      <td>NaN</td>\n",
       "    </tr>\n",
       "    <tr>\n",
       "      <th>322</th>\n",
       "      <td>New Hampshire Democratic Debate Transcript</td>\n",
       "      <td>Part 2</td>\n",
       "      <td>George S.</td>\n",
       "      <td>Candidates. Thank you. Thanks for a great deba...</td>\n",
       "      <td>NaN</td>\n",
       "    </tr>\n",
       "    <tr>\n",
       "      <th>669</th>\n",
       "      <td>January Iowa Democratic Debate Transcript</td>\n",
       "      <td>Entire Debate</td>\n",
       "      <td>Wolf Blitzer</td>\n",
       "      <td>Candidates, thank you very, very much. That co...</td>\n",
       "      <td>NaN</td>\n",
       "    </tr>\n",
       "    <tr>\n",
       "      <th>826</th>\n",
       "      <td>December Democratic Debate Transcript: Sixth D...</td>\n",
       "      <td>Democratic Debate Part 1</td>\n",
       "      <td>Judy Woodruff</td>\n",
       "      <td>Were going to take a short break and we will be</td>\n",
       "      <td>NaN</td>\n",
       "    </tr>\n",
       "    <tr>\n",
       "      <th>1030</th>\n",
       "      <td>December Democratic Debate Transcript: Sixth D...</td>\n",
       "      <td>Democratic Debate Part 2</td>\n",
       "      <td>Judy Woodruff</td>\n",
       "      <td>We are going to take a very short break. That ...</td>\n",
       "      <td>NaN</td>\n",
       "    </tr>\n",
       "    <tr>\n",
       "      <th>...</th>\n",
       "      <td>...</td>\n",
       "      <td>...</td>\n",
       "      <td>...</td>\n",
       "      <td>...</td>\n",
       "      <td>...</td>\n",
       "    </tr>\n",
       "    <tr>\n",
       "      <th>4807</th>\n",
       "      <td>Transcript from Night 1 of the 2019 June Democ...</td>\n",
       "      <td>Closing Statements</td>\n",
       "      <td>Elizabeth Warren</td>\n",
       "      <td>But I got my chance. It was a 50 dollar a seme...</td>\n",
       "      <td>NaN</td>\n",
       "    </tr>\n",
       "    <tr>\n",
       "      <th>4808</th>\n",
       "      <td>Transcript from Night 1 of the 2019 June Democ...</td>\n",
       "      <td>Closing Statements</td>\n",
       "      <td>Savannah G.</td>\n",
       "      <td>We would like to thank all of the candidates t...</td>\n",
       "      <td>NaN</td>\n",
       "    </tr>\n",
       "    <tr>\n",
       "      <th>4809</th>\n",
       "      <td>Transcript from Night 1 of the 2019 June Democ...</td>\n",
       "      <td>Closing Statements</td>\n",
       "      <td>Lester Holt</td>\n",
       "      <td>We certainly hope you will join us then. But f...</td>\n",
       "      <td>NaN</td>\n",
       "    </tr>\n",
       "    <tr>\n",
       "      <th>5075</th>\n",
       "      <td>Democratic Debate Transcript: Las Vegas, Nevad...</td>\n",
       "      <td>Part 1</td>\n",
       "      <td>Lester Holt</td>\n",
       "      <td>Mayor Buttigieg, your thoughts.</td>\n",
       "      <td>NaN</td>\n",
       "    </tr>\n",
       "    <tr>\n",
       "      <th>5332</th>\n",
       "      <td>Democratic Debate Transcript: Las Vegas, Nevad...</td>\n",
       "      <td>Part 2</td>\n",
       "      <td>Lester Holt</td>\n",
       "      <td>For now, for all of us at NBC News, Im Lester...</td>\n",
       "      <td>NaN</td>\n",
       "    </tr>\n",
       "  </tbody>\n",
       "</table>\n",
       "<p>513 rows × 5 columns</p>\n",
       "</div>"
      ],
      "text/plain": [
       "                                            debate_name  \\\n",
       "153          New Hampshire Democratic Debate Transcript   \n",
       "322          New Hampshire Democratic Debate Transcript   \n",
       "669           January Iowa Democratic Debate Transcript   \n",
       "826   December Democratic Debate Transcript: Sixth D...   \n",
       "1030  December Democratic Debate Transcript: Sixth D...   \n",
       "...                                                 ...   \n",
       "4807  Transcript from Night 1 of the 2019 June Democ...   \n",
       "4808  Transcript from Night 1 of the 2019 June Democ...   \n",
       "4809  Transcript from Night 1 of the 2019 June Democ...   \n",
       "5075  Democratic Debate Transcript: Las Vegas, Nevad...   \n",
       "5332  Democratic Debate Transcript: Las Vegas, Nevad...   \n",
       "\n",
       "                debate_section           speaker  \\\n",
       "153                     Part 1         George S.   \n",
       "322                     Part 2         George S.   \n",
       "669              Entire Debate      Wolf Blitzer   \n",
       "826   Democratic Debate Part 1     Judy Woodruff   \n",
       "1030  Democratic Debate Part 2     Judy Woodruff   \n",
       "...                        ...               ...   \n",
       "4807        Closing Statements  Elizabeth Warren   \n",
       "4808        Closing Statements       Savannah G.   \n",
       "4809        Closing Statements       Lester Holt   \n",
       "5075                    Part 1       Lester Holt   \n",
       "5332                    Part 2       Lester Holt   \n",
       "\n",
       "                                                 speech  speaking_time_seconds  \n",
       "153   We have much more today coming up, but we have...                    NaN  \n",
       "322   Candidates. Thank you. Thanks for a great deba...                    NaN  \n",
       "669   Candidates, thank you very, very much. That co...                    NaN  \n",
       "826   Were going to take a short break and we will be\n",
       "                    NaN  \n",
       "1030  We are going to take a very short break. That ...                    NaN  \n",
       "...                                                 ...                    ...  \n",
       "4807  But I got my chance. It was a 50 dollar a seme...                    NaN  \n",
       "4808  We would like to thank all of the candidates t...                    NaN  \n",
       "4809  We certainly hope you will join us then. But f...                    NaN  \n",
       "5075                    Mayor Buttigieg, your thoughts.                    NaN  \n",
       "5332  For now, for all of us at NBC News, Im Lester...                    NaN  \n",
       "\n",
       "[513 rows x 5 columns]"
      ]
     },
     "execution_count": 4,
     "metadata": {},
     "output_type": "execute_result"
    }
   ],
   "source": [
    "### looking at null rows ###\n",
    "\n",
    "# creating a boolean mask of nulls\n",
    "mask = df['speaking_time_seconds'].isnull()\n",
    "\n",
    "# applying the mask\n",
    "df[mask]"
   ]
  },
  {
   "cell_type": "markdown",
   "metadata": {},
   "source": [
    "We see that all the null values are in the speaking time column. When we investigate to see what these rows with missing values look like, a lot of them seem to be from hosts and moderators but we can see that Elizabeth Warren, a candidate, also has a missing value. We will investigate further to see if this is a problem."
   ]
  },
  {
   "cell_type": "code",
   "execution_count": 5,
   "metadata": {},
   "outputs": [
    {
     "data": {
      "text/plain": [
       "Chuck Todd          81\n",
       "Lester Holt         48\n",
       "Rachel Maddow       43\n",
       "John Delaney        34\n",
       "Beto ORourke       32\n",
       "Savannah G.         30\n",
       "Elizabeth Warren    26\n",
       "Jose D.B.           26\n",
       "Tim Ryan            26\n",
       "Cory Booker         26\n",
       "Julian Castro       24\n",
       "Tulsi Gabbard       22\n",
       "Amy Klobuchar       21\n",
       "Bill de Blasio      18\n",
       "Jay Inslee           8\n",
       "Steve Kornacki       6\n",
       "Speaker 12           5\n",
       "Speaker 13           4\n",
       "George S.            4\n",
       "Jake Tapper          3\n",
       "Judy Woodruff        3\n",
       "Speaker 11           3\n",
       "Speaker 3            2\n",
       "Speaker 15           2\n",
       "Don Lemon            2\n",
       "Speaker 18           1\n",
       "Speaker 9            1\n",
       "Speaker 17           1\n",
       "Wolf Blitzer         1\n",
       "Speaker 2            1\n",
       "N. Henderson         1\n",
       "Speaker 19           1\n",
       "Speaker 7            1\n",
       "Speaker 1            1\n",
       "Speaker 10           1\n",
       "Speaker 8            1\n",
       "Speaker 16           1\n",
       "Speaker 14           1\n",
       "Speaker 20           1\n",
       "Name: speaker, dtype: int64"
      ]
     },
     "execution_count": 5,
     "metadata": {},
     "output_type": "execute_result"
    }
   ],
   "source": [
    "### value counts of null values ###\n",
    "\n",
    "df[mask]['speaker'].value_counts()"
   ]
  },
  {
   "cell_type": "markdown",
   "metadata": {},
   "source": [
    "Admittedly, we will not care about host and moderator speaking times since they are not who we are looking at as inspirational speakers. We will also limit how many candidates that we observe so we will shrink the set before dealing with the missing values further."
   ]
  },
  {
   "cell_type": "code",
   "execution_count": 6,
   "metadata": {},
   "outputs": [
    {
     "data": {
      "text/plain": [
       "array(['George S.', 'Joe Biden', 'Bernie Sanders', 'Amy Klobuchar',\n",
       "       'Tom Steyer', 'Andrew Yang', 'Elizabeth Warren', 'Pete Buttigieg',\n",
       "       'Speaker 1', 'Linsey Davis', 'David Muir', 'Monica Hernandez',\n",
       "       'Adam Sexton', 'Devin Dwyer', 'Rachel Scott', 'Announcer',\n",
       "       'Wolf Blitzer', 'Abby Phillips', 'B. Pfannenstiel', 'Moderator 1',\n",
       "       'Moderator 2', 'Brianne P.', 'Judy Woodruff', 'Amy Walter',\n",
       "       'Stephanie Sy', 'Speaker 2', 'Tim Alberta', 'Amna Nawaz',\n",
       "       'Yamiche A.', 'Rachel Maddow', 'Andrea Mitchell', 'Kamala Harris',\n",
       "       'Cory Booker', 'Kristen Welker', 'Ashley Parker', 'Tulsi Gabbard',\n",
       "       'Speaker 3', 'Anderson Cooper', 'Erin Burnett', 'Marc Lacey',\n",
       "       'Julian Castro', 'Beto O\\x92Rourke', 'A. Cooper', 'Jake Tapper',\n",
       "       'Voiceover', 'Jorge Ramos', 'Sec. Castro', 'Speaker 13',\n",
       "       'Dana Bash', 'Bill de Blasio', 'Michael Bennet', 'Jay Inslee',\n",
       "       'Kirsten Gillibrand', 'Don Lemon', 'Crowd', 'Kirseten Gillibrand',\n",
       "       'Moderator', 'Speaker 12', 'Diana', 'Steve Bullock',\n",
       "       'Marianne Williamson', 'John Delaney', 'Tim Ryan', 'John H.',\n",
       "       'Female', 'Male', 'John Hickenloop', 'Speaker 9',\n",
       "       'J. Hickenlooper', 'John King', 'N. Henderson', 'Savanagh G.',\n",
       "       'Bennett', 'Jose D.B.', 'Eric Stalwell', 'Eric Swalwell',\n",
       "       'Speaker 4', 'Speaker 5', 'Speaker 6', 'Speaker 7', 'Lester Holt',\n",
       "       'Speaker 8', 'Savannah G.', 'Chuck Todd', 'Steve Kornacki',\n",
       "       'Speaker 16', 'Speaker 17', 'Speaker 15', 'Speaker 18',\n",
       "       'Speaker 19', 'Speaker 20', 'Speaker 10', 'Speaker 11',\n",
       "       'Speaker 14', 'Michael Bloomberg', 'Hallie Jackson',\n",
       "       'Vanessa Hauc', 'Jon Ralston', 'Helen', 'Moderator 4', 'Audience'],\n",
       "      dtype=object)"
      ]
     },
     "execution_count": 6,
     "metadata": {},
     "output_type": "execute_result"
    }
   ],
   "source": [
    "### list of speakers ###\n",
    "\n",
    "df['speaker'].unique()"
   ]
  },
  {
   "cell_type": "code",
   "execution_count": 7,
   "metadata": {},
   "outputs": [
    {
     "data": {
      "text/html": [
       "<div>\n",
       "<style scoped>\n",
       "    .dataframe tbody tr th:only-of-type {\n",
       "        vertical-align: middle;\n",
       "    }\n",
       "\n",
       "    .dataframe tbody tr th {\n",
       "        vertical-align: top;\n",
       "    }\n",
       "\n",
       "    .dataframe thead th {\n",
       "        text-align: right;\n",
       "    }\n",
       "</style>\n",
       "<table border=\"1\" class=\"dataframe\">\n",
       "  <thead>\n",
       "    <tr style=\"text-align: right;\">\n",
       "      <th></th>\n",
       "      <th>debate_name</th>\n",
       "      <th>debate_section</th>\n",
       "      <th>speaker</th>\n",
       "      <th>speech</th>\n",
       "      <th>speaking_time_seconds</th>\n",
       "    </tr>\n",
       "  </thead>\n",
       "  <tbody>\n",
       "    <tr>\n",
       "      <th>1</th>\n",
       "      <td>New Hampshire Democratic Debate Transcript</td>\n",
       "      <td>Part 1</td>\n",
       "      <td>Joe Biden</td>\n",
       "      <td>Oh, they didnt miss anything. Its a long rac...</td>\n",
       "      <td>36.0</td>\n",
       "    </tr>\n",
       "    <tr>\n",
       "      <th>3</th>\n",
       "      <td>New Hampshire Democratic Debate Transcript</td>\n",
       "      <td>Part 1</td>\n",
       "      <td>Joe Biden</td>\n",
       "      <td>Well, you know that with regard to Senator San...</td>\n",
       "      <td>41.0</td>\n",
       "    </tr>\n",
       "    <tr>\n",
       "      <th>5</th>\n",
       "      <td>New Hampshire Democratic Debate Transcript</td>\n",
       "      <td>Part 1</td>\n",
       "      <td>Bernie Sanders</td>\n",
       "      <td>Because Donald Trump lies all the time. It doe...</td>\n",
       "      <td>41.0</td>\n",
       "    </tr>\n",
       "    <tr>\n",
       "      <th>6</th>\n",
       "      <td>New Hampshire Democratic Debate Transcript</td>\n",
       "      <td>Part 1</td>\n",
       "      <td>Bernie Sanders</td>\n",
       "      <td>I believe that the way we beat Trump is by hav...</td>\n",
       "      <td>39.0</td>\n",
       "    </tr>\n",
       "    <tr>\n",
       "      <th>8</th>\n",
       "      <td>New Hampshire Democratic Debate Transcript</td>\n",
       "      <td>Part 1</td>\n",
       "      <td>Bernie Sanders</td>\n",
       "      <td>Thats true. And thats the disappointment and...</td>\n",
       "      <td>23.0</td>\n",
       "    </tr>\n",
       "  </tbody>\n",
       "</table>\n",
       "</div>"
      ],
      "text/plain": [
       "                                  debate_name debate_section         speaker  \\\n",
       "1  New Hampshire Democratic Debate Transcript         Part 1       Joe Biden   \n",
       "3  New Hampshire Democratic Debate Transcript         Part 1       Joe Biden   \n",
       "5  New Hampshire Democratic Debate Transcript         Part 1  Bernie Sanders   \n",
       "6  New Hampshire Democratic Debate Transcript         Part 1  Bernie Sanders   \n",
       "8  New Hampshire Democratic Debate Transcript         Part 1  Bernie Sanders   \n",
       "\n",
       "                                              speech  speaking_time_seconds  \n",
       "1  Oh, they didnt miss anything. Its a long rac...                   36.0  \n",
       "3  Well, you know that with regard to Senator San...                   41.0  \n",
       "5  Because Donald Trump lies all the time. It doe...                   41.0  \n",
       "6  I believe that the way we beat Trump is by hav...                   39.0  \n",
       "8  Thats true. And thats the disappointment and...                   23.0  "
      ]
     },
     "execution_count": 7,
     "metadata": {},
     "output_type": "execute_result"
    }
   ],
   "source": [
    "### reducing speaker list ###\n",
    "\n",
    "# list of speakers to analyze\n",
    "speakers = ['Joe Biden', 'Bernie Sanders', 'Amy Klobuchar', 'Andrew Yang', \n",
    "            'Elizabeth Warren', 'Pete Buttigieg', 'Michael Bloomberg']\n",
    "\n",
    "# creating mask\n",
    "mask = df['speaker'].isin(speakers)\n",
    "\n",
    "# applying mask\n",
    "df = df[mask]\n",
    "\n",
    "df.head()"
   ]
  },
  {
   "cell_type": "markdown",
   "metadata": {},
   "source": [
    "Now that we've filtered the number of speakers, let's look at the null values again."
   ]
  },
  {
   "cell_type": "code",
   "execution_count": 8,
   "metadata": {},
   "outputs": [
    {
     "data": {
      "text/plain": [
       "Elizabeth Warren    26\n",
       "Amy Klobuchar       21\n",
       "Name: speaker, dtype: int64"
      ]
     },
     "execution_count": 8,
     "metadata": {},
     "output_type": "execute_result"
    }
   ],
   "source": [
    "### re-exploring null values ###\n",
    "\n",
    "# creating a boolean mask of nulls\n",
    "mask = df['speaking_time_seconds'].isnull()\n",
    "\n",
    "# value counts\n",
    "df[mask]['speaker'].value_counts()"
   ]
  },
  {
   "cell_type": "code",
   "execution_count": 9,
   "metadata": {},
   "outputs": [
    {
     "data": {
      "text/plain": [
       "Joe Biden            398\n",
       "Elizabeth Warren     382\n",
       "Bernie Sanders       361\n",
       "Pete Buttigieg       338\n",
       "Amy Klobuchar        307\n",
       "Andrew Yang          106\n",
       "Michael Bloomberg     53\n",
       "Name: speaker, dtype: int64"
      ]
     },
     "execution_count": 9,
     "metadata": {},
     "output_type": "execute_result"
    }
   ],
   "source": [
    "### overall value counts ###\n",
    "\n",
    "df['speaker'].value_counts()"
   ]
  },
  {
   "cell_type": "markdown",
   "metadata": {},
   "source": [
    "The amount of null values for Elizabeth Warren and Amy Klobuchar are about 7% of their total speeches. We can not impute random times for these speeches without further exploration and filtering so let's continue to explore until we can figure out what to do with these values."
   ]
  },
  {
   "cell_type": "code",
   "execution_count": 10,
   "metadata": {},
   "outputs": [
    {
     "data": {
      "text/plain": [
       "<matplotlib.axes._subplots.AxesSubplot at 0x1e53bc57208>"
      ]
     },
     "execution_count": 10,
     "metadata": {},
     "output_type": "execute_result"
    },
    {
     "data": {
      "image/png": "[encoded data removed]",
      "text/plain": [
       "<Figure size 432x288 with 1 Axes>"
      ]
     },
     "metadata": {
      "needs_background": "light"
     },
     "output_type": "display_data"
    }
   ],
   "source": [
    "### exploring length of speech segments ###\n",
    "\n",
    "# getting word counts of each speech\n",
    "df['word_count'] = (df['speech'].str.count(' ') + 1)\n",
    "\n",
    "# visualizing in a histogram\n",
    "df['word_count'].hist(bins = 25)"
   ]
  },
  {
   "cell_type": "markdown",
   "metadata": {},
   "source": [
    "A lot of these speeches have small word counts (<20). Intuition tells us that these short speeches may be parts of speeches that do not have much meaning. For example, simple yes or no answers and greetings or salutations. We will look at them more closely and filter if needed."
   ]
  },
  {
   "cell_type": "code",
   "execution_count": 11,
   "metadata": {},
   "outputs": [
    {
     "data": {
      "text/plain": [
       "10                                 Im not.\n",
       "34                               30 second-\n",
       "52                        70 is the new 50.\n",
       "55                   George, George, can I\n",
       "\n",
       "57                       George, can I say\n",
       "\n",
       "                       ...                 \n",
       "5305    Im running because so many people-\n",
       "5307    Just continue [inaudible 00:46:39].\n",
       "5320                    Had, in fact, that-\n",
       "5322             \n",
       " immigration bill passed-\n",
       "5326               \n",
       " now American citizens.\n",
       "Name: speech, Length: 444, dtype: object"
      ]
     },
     "execution_count": 11,
     "metadata": {},
     "output_type": "execute_result"
    }
   ],
   "source": [
    "### exploring low word count speeches ###\n",
    "\n",
    "# creating mask\n",
    "mask = (df['word_count'] <= 10)\n",
    "\n",
    "# applying mask\n",
    "df[mask]['speech']"
   ]
  },
  {
   "cell_type": "markdown",
   "metadata": {},
   "source": [
    "These speeches seem to have no meaning so we will filter them out and then move onto a larger word count."
   ]
  },
  {
   "cell_type": "code",
   "execution_count": 12,
   "metadata": {},
   "outputs": [],
   "source": [
    "### filtering speeches based on word counts ###\n",
    "\n",
    "# filtering\n",
    "df = df[~mask]"
   ]
  },
  {
   "cell_type": "code",
   "execution_count": 13,
   "metadata": {},
   "outputs": [
    {
     "data": {
      "text/plain": [
       "95      I must confess, I dont get too many newspaper...\n",
       "156     No. What Ive called for is that incarceration...\n",
       "211     And again, the overall rate was lower than the...\n",
       "268     \n",
       " Ive got to answer before the question, its...\n",
       "394     Other than that I like him and he got a love l...\n",
       "                              ...                        \n",
       "5235    Well I would say for anybody who ran for presi...\n",
       "5268    Well the process includes 500 super delegates ...\n",
       "5280    Secondly, you need someone who can govern. I h...\n",
       "5289    Well you can join me at mikebloomberg.com too ...\n",
       "5324    \n",
       " there would be 10 \n",
       " Six million members woul...\n",
       "Name: speech, Length: 156, dtype: object"
      ]
     },
     "execution_count": 13,
     "metadata": {},
     "output_type": "execute_result"
    }
   ],
   "source": [
    "### exploring low word count speeches ###\n",
    "\n",
    "# creating mask\n",
    "mask = (df['word_count'] <= 20)\n",
    "\n",
    "# applying mask\n",
    "df[mask]['speech']"
   ]
  },
  {
   "cell_type": "markdown",
   "metadata": {},
   "source": [
    "These speeches seem to be more meaningful answers to questions and probably contain insight that we don't want to drop so we will keep them. Something we notice is that apostrophes are encoded oddly. We will try to fix this."
   ]
  },
  {
   "cell_type": "code",
   "execution_count": 14,
   "metadata": {},
   "outputs": [
    {
     "data": {
      "text/plain": [
       "debate_name                      January Iowa Democratic Debate Transcript\n",
       "debate_section                                               Entire Debate\n",
       "speaker                                                     Pete Buttigieg\n",
       "speech                   Its just not true that the plan Im proposing...\n",
       "speaking_time_seconds                                                   24\n",
       "word_count                                                              75\n",
       "Name: 545, dtype: object"
      ]
     },
     "execution_count": 14,
     "metadata": {},
     "output_type": "execute_result"
    }
   ],
   "source": [
    "### attempting to add ' ###\n",
    "\n",
    "# replacing with the copied and pasted character\n",
    "df['speech'].str.replace('', '\\'')\n",
    "\n",
    "# seeing if it worked\n",
    "df.iloc[268, :]"
   ]
  },
  {
   "cell_type": "markdown",
   "metadata": {},
   "source": [
    "That didn't work. Let's try with all punctuation."
   ]
  },
  {
   "cell_type": "code",
   "execution_count": 15,
   "metadata": {},
   "outputs": [
    {
     "data": {
      "text/plain": [
       "debate_name                      January Iowa Democratic Debate Transcript\n",
       "debate_section                                               Entire Debate\n",
       "speaker                                                     Pete Buttigieg\n",
       "speech                   its just not true that the plan im proposing...\n",
       "speaking_time_seconds                                                   24\n",
       "word_count                                                              75\n",
       "Name: 545, dtype: object"
      ]
     },
     "execution_count": 15,
     "metadata": {},
     "output_type": "execute_result"
    }
   ],
   "source": [
    "### removing all punctuation ###\n",
    "\n",
    "# removing punctuation\n",
    "for punctuation in string.punctuation:\n",
    "    df['speech'] = df['speech'].str.replace(punctuation, '')\n",
    "    \n",
    "# while we're at it, let's just lowercase everything\n",
    "df['speech'] = df['speech'].str.lower()\n",
    "\n",
    "df.iloc[268, :]"
   ]
  },
  {
   "cell_type": "markdown",
   "metadata": {},
   "source": [
    "This unfortunately did not work. In order to fix this, we will need to go into the csv file and change it there. However, for the sake of analysis, we do not need to worry about these words and can carry onto the analysis. Now let's do a final look at the null values."
   ]
  },
  {
   "cell_type": "code",
   "execution_count": 16,
   "metadata": {},
   "outputs": [
    {
     "data": {
      "text/plain": [
       "Amy Klobuchar       20\n",
       "Elizabeth Warren    17\n",
       "Name: speaker, dtype: int64"
      ]
     },
     "execution_count": 16,
     "metadata": {},
     "output_type": "execute_result"
    }
   ],
   "source": [
    "### null values ###\n",
    "\n",
    "# mask\n",
    "mask = df['speaking_time_seconds'].isna()\n",
    "\n",
    "# value counts\n",
    "df[mask]['speaker'].value_counts()"
   ]
  },
  {
   "cell_type": "markdown",
   "metadata": {},
   "source": [
    "Unfortunately, there is nothing more we can do for these null values and we can not impute them because we find the speaking time very important in this analysis so we will have to just drop these values."
   ]
  },
  {
   "cell_type": "code",
   "execution_count": 17,
   "metadata": {},
   "outputs": [],
   "source": [
    "### dropping null values ###\n",
    "\n",
    "df = df.dropna(axis = 0)"
   ]
  },
  {
   "cell_type": "markdown",
   "metadata": {},
   "source": [
    "Now we will turn numbers into a unique string that we can use to identify that the speaker used a number. This is because numbers are typically associated with facts and it may be a useful insight. Keep in mind that we need the number of whitespaces to only exist between words so we have to be careful with how we use our RegEx to preserve the same whitespace structure."
   ]
  },
  {
   "cell_type": "code",
   "execution_count": 18,
   "metadata": {},
   "outputs": [],
   "source": [
    "### converting numbers into a useable string ###\n",
    "\n",
    "# start of speech\n",
    "df['speech'] = df['speech'].str.replace('^[0-9]+[\\s]', 'numnum ')\n",
    "\n",
    "# middle of speech\n",
    "df['speech'] = df['speech'].str.replace('[\\s][0-9]+[\\s]', ' numnum ')\n",
    "\n",
    "# end of speech\n",
    "df['speech'] = df['speech'].str.replace('[\\s][0-9]+$', ' numnum')"
   ]
  },
  {
   "cell_type": "markdown",
   "metadata": {},
   "source": [
    "We are almost ready to do exploratory data analysis (EDA). Before we do so, we will drop the debate section column as it holds no information for us."
   ]
  },
  {
   "cell_type": "code",
   "execution_count": 19,
   "metadata": {},
   "outputs": [],
   "source": [
    "### dropping debate section ###\n",
    "\n",
    "df = df.drop('debate_section', axis = 1)"
   ]
  },
  {
   "cell_type": "markdown",
   "metadata": {},
   "source": [
    "## Exploratory Data Analysis\n",
    "\n",
    "The first thing I think of or notice when I listen to speeches is how quickly they are speaking. Let's take a look at how many words the candidates say per minute. "
   ]
  },
  {
   "cell_type": "code",
   "execution_count": 20,
   "metadata": {},
   "outputs": [
    {
     "data": {
      "text/html": [
       "<div>\n",
       "<style scoped>\n",
       "    .dataframe tbody tr th:only-of-type {\n",
       "        vertical-align: middle;\n",
       "    }\n",
       "\n",
       "    .dataframe tbody tr th {\n",
       "        vertical-align: top;\n",
       "    }\n",
       "\n",
       "    .dataframe thead th {\n",
       "        text-align: right;\n",
       "    }\n",
       "</style>\n",
       "<table border=\"1\" class=\"dataframe\">\n",
       "  <thead>\n",
       "    <tr style=\"text-align: right;\">\n",
       "      <th></th>\n",
       "      <th>speaking_time_seconds</th>\n",
       "      <th>word_count</th>\n",
       "      <th>speaking_time_minutes</th>\n",
       "      <th>wpm</th>\n",
       "    </tr>\n",
       "    <tr>\n",
       "      <th>speaker</th>\n",
       "      <th></th>\n",
       "      <th></th>\n",
       "      <th></th>\n",
       "      <th></th>\n",
       "    </tr>\n",
       "  </thead>\n",
       "  <tbody>\n",
       "    <tr>\n",
       "      <th>Bernie Sanders</th>\n",
       "      <td>8326.0</td>\n",
       "      <td>20691</td>\n",
       "      <td>138.766667</td>\n",
       "      <td>149</td>\n",
       "    </tr>\n",
       "    <tr>\n",
       "      <th>Elizabeth Warren</th>\n",
       "      <td>8443.0</td>\n",
       "      <td>23097</td>\n",
       "      <td>140.716667</td>\n",
       "      <td>164</td>\n",
       "    </tr>\n",
       "    <tr>\n",
       "      <th>Michael Bloomberg</th>\n",
       "      <td>763.0</td>\n",
       "      <td>2295</td>\n",
       "      <td>12.716667</td>\n",
       "      <td>180</td>\n",
       "    </tr>\n",
       "    <tr>\n",
       "      <th>Amy Klobuchar</th>\n",
       "      <td>6822.0</td>\n",
       "      <td>20824</td>\n",
       "      <td>113.700000</td>\n",
       "      <td>183</td>\n",
       "    </tr>\n",
       "    <tr>\n",
       "      <th>Pete Buttigieg</th>\n",
       "      <td>7567.0</td>\n",
       "      <td>23260</td>\n",
       "      <td>126.116667</td>\n",
       "      <td>184</td>\n",
       "    </tr>\n",
       "    <tr>\n",
       "      <th>Joe Biden</th>\n",
       "      <td>8419.0</td>\n",
       "      <td>26229</td>\n",
       "      <td>140.316667</td>\n",
       "      <td>186</td>\n",
       "    </tr>\n",
       "    <tr>\n",
       "      <th>Andrew Yang</th>\n",
       "      <td>3133.0</td>\n",
       "      <td>10132</td>\n",
       "      <td>52.216667</td>\n",
       "      <td>194</td>\n",
       "    </tr>\n",
       "  </tbody>\n",
       "</table>\n",
       "</div>"
      ],
      "text/plain": [
       "                   speaking_time_seconds  word_count  speaking_time_minutes  \\\n",
       "speaker                                                                       \n",
       "Bernie Sanders                    8326.0       20691             138.766667   \n",
       "Elizabeth Warren                  8443.0       23097             140.716667   \n",
       "Michael Bloomberg                  763.0        2295              12.716667   \n",
       "Amy Klobuchar                     6822.0       20824             113.700000   \n",
       "Pete Buttigieg                    7567.0       23260             126.116667   \n",
       "Joe Biden                         8419.0       26229             140.316667   \n",
       "Andrew Yang                       3133.0       10132              52.216667   \n",
       "\n",
       "                   wpm  \n",
       "speaker                 \n",
       "Bernie Sanders     149  \n",
       "Elizabeth Warren   164  \n",
       "Michael Bloomberg  180  \n",
       "Amy Klobuchar      183  \n",
       "Pete Buttigieg     184  \n",
       "Joe Biden          186  \n",
       "Andrew Yang        194  "
      ]
     },
     "execution_count": 20,
     "metadata": {},
     "output_type": "execute_result"
    }
   ],
   "source": [
    "### words per minute ###\n",
    "\n",
    "# aggregation\n",
    "df2 = df.groupby(['speaker']).sum()\n",
    "\n",
    "# creating minutes and wpm columns\n",
    "df2['speaking_time_minutes'] = df2['speaking_time_seconds'] / 60\n",
    "df2['wpm'] = (df2['word_count'] / df2['speaking_time_minutes']).astype(int)\n",
    "\n",
    "# sorting by wpm\n",
    "df2 = df2.sort_values(by = ['wpm'])\n",
    "\n",
    "df2"
   ]
  },
  {
   "cell_type": "code",
   "execution_count": 21,
   "metadata": {},
   "outputs": [
    {
     "data": {
      "text/plain": [
       "Text(0.5, 1.0, 'Words per minute of speakers')"
      ]
     },
     "execution_count": 21,
     "metadata": {},
     "output_type": "execute_result"
    },
    {
     "data": {
      "image/png": "[encoded data removed]",
      "text/plain": [
       "<Figure size 432x288 with 1 Axes>"
      ]
     },
     "metadata": {
      "needs_background": "light"
     },
     "output_type": "display_data"
    }
   ],
   "source": [
    "### visualizing wpm ###\n",
    "\n",
    "sns.barplot(y = df2.index, x = df2['wpm'])\n",
    "sns.set_style(\"ticks\")\n",
    "plt.title('Words per minute of speakers')"
   ]
  },
  {
   "cell_type": "markdown",
   "metadata": {},
   "source": [
    "It can be seen that Bernie Sanders and Elizabeth Warren have the lowest wpms by a good margin. Let's look at another figure taken from the internet. \n",
    "\n",
    "![political spectrum](https://i.gyazo.com/9b0575dae4ee951c943e8624f481fb64.png)\n",
    "\n",
    "We can see from this image that the two most left leaning candidates are Bernie Sanders and Elizabeth Warren, whereas the remaining candidates are all close together on the right. Perhaps where you are on the political spectrum affects your wpm. Let's keep exploring! How about how many words the candidates use per speech?"
   ]
  },
  {
   "cell_type": "code",
   "execution_count": 22,
   "metadata": {},
   "outputs": [
    {
     "data": {
      "text/plain": [
       "Text(0, 0.5, 'Speaker')"
      ]
     },
     "execution_count": 22,
     "metadata": {},
     "output_type": "execute_result"
    },
    {
     "data": {
      "image/png": "[encoded data removed]",
      "text/plain": [
       "<Figure size 432x288 with 1 Axes>"
      ]
     },
     "metadata": {},
     "output_type": "display_data"
    }
   ],
   "source": [
    "speaker_counts = df['speaker'].value_counts()\n",
    "wps = df2['word_count'] / speaker_counts\n",
    "wps = wps.sort_values()\n",
    "\n",
    "sns.barplot(y = wps.index, x = wps)\n",
    "plt.title('Words per speech of candidates')\n",
    "plt.xlabel('Words per speech')\n",
    "plt.ylabel('Speaker')"
   ]
  },
  {
   "cell_type": "markdown",
   "metadata": {},
   "source": [
    "Here we see a fairly standard set of words per speech distribution, with Michael Bloomberg having the least words which may be due to his inexperience as a speaker (being new to the political scene). Andrew Yang on the other hand, has the most words per speech which may be due to his supposed small amount of speaking time given in debates. He may feel the need to speak as much as possible each time he is given time to speak. This also aligns with his speaking speed. \n",
    "\n",
    "We can note that this assumes that the amount of speaking time Andrew Yang is given being low is true. However, we have the data and we do not just blindly follow assumptions. Let's see for ourselves how this assumption holds!"
   ]
  },
  {
   "cell_type": "code",
   "execution_count": 23,
   "metadata": {},
   "outputs": [
    {
     "data": {
      "text/plain": [
       "Text(0.5, 0, 'Number of speeches')"
      ]
     },
     "execution_count": 23,
     "metadata": {},
     "output_type": "execute_result"
    },
    {
     "data": {
      "image/png": "[encoded data removed]",
      "text/plain": [
       "<Figure size 432x288 with 1 Axes>"
      ]
     },
     "metadata": {},
     "output_type": "display_data"
    }
   ],
   "source": [
    "### is Andrew Yang's speaking time less than that of other candidates? ###\n",
    "\n",
    "# how many times the candidates spoke overall\n",
    "count_speech = df['speaker'].value_counts()\n",
    "count_speech = count_speech.sort_values()\n",
    "\n",
    "sns.barplot(x = count_speech, y = count_speech.index)\n",
    "plt.title('Number of speeches overall')\n",
    "plt.ylabel('Speaker')\n",
    "plt.xlabel('Number of speeches')"
   ]
  },
  {
   "cell_type": "markdown",
   "metadata": {},
   "source": [
    "First we note that Andrew Yang has the least amount of speeches aside from Michael Bloomberg who has only gone through a single debate. Let's see how Andrew Yang's number of speeches compare to other candidates in each debate."
   ]
  },
  {
   "cell_type": "code",
   "execution_count": 24,
   "metadata": {},
   "outputs": [
    {
     "data": {
      "text/plain": [
       "Text(0.5, 1.0, 'Number of speeches per debate of candidates')"
      ]
     },
     "execution_count": 24,
     "metadata": {},
     "output_type": "execute_result"
    },
    {
     "data": {
      "image/png": "[encoded data removed]",
      "text/plain": [
       "<Figure size 432x288 with 1 Axes>"
      ]
     },
     "metadata": {},
     "output_type": "display_data"
    }
   ],
   "source": [
    "### is Andrew Yang's speaking time less than that of other candidates? ###\n",
    "\n",
    "# how many times the candidates spoke in each debate\n",
    "spd = df.groupby(['debate_name', 'speaker']).count()['speech'].groupby('speaker').mean().sort_values()\n",
    "\n",
    "sns.barplot(x = spd, y = spd.index)\n",
    "plt.xlabel('Number of speeches per debate')\n",
    "plt.title('Number of speeches per debate of candidates')"
   ]
  },
  {
   "cell_type": "markdown",
   "metadata": {},
   "source": [
    "It seems quite clear that Andrew Yang has been given the floor to speak the least amount of times compared to any of the candidates. This is quite significant as well. Finally, let's see how much time the candidates get to investigate further."
   ]
  },
  {
   "cell_type": "code",
   "execution_count": 25,
   "metadata": {},
   "outputs": [
    {
     "data": {
      "text/plain": [
       "Text(0.5, 0, 'Time (min)')"
      ]
     },
     "execution_count": 25,
     "metadata": {},
     "output_type": "execute_result"
    },
    {
     "data": {
      "image/png": "[encoded data removed]",
      "text/plain": [
       "<Figure size 432x288 with 1 Axes>"
      ]
     },
     "metadata": {},
     "output_type": "display_data"
    }
   ],
   "source": [
    "### how much time does every candidate receive? ###\n",
    "\n",
    "# how much time each candidate meaningfully spoke for\n",
    "total_time = df.groupby('speaker').sum()['speaking_time_seconds'] / 60\n",
    "total_time = total_time.sort_values()\n",
    "\n",
    "sns.barplot(y = total_time.index, x = total_time)\n",
    "plt.title('Total time spoken per candidate')\n",
    "plt.xlabel('Time (min)')"
   ]
  },
  {
   "cell_type": "markdown",
   "metadata": {},
   "source": [
    "Although we see a possibility that Andrew Yang is underrepresented in time, this is an overall sum of time so we need to look at time spoken per debate. We do note that Michael Bloomberg has the least amount of time spoken since he has only participated in one debate. "
   ]
  },
  {
   "cell_type": "code",
   "execution_count": 26,
   "metadata": {},
   "outputs": [
    {
     "data": {
      "text/plain": [
       "Text(0.5, 0, 'Time (min)')"
      ]
     },
     "execution_count": 26,
     "metadata": {},
     "output_type": "execute_result"
    },
    {
     "data": {
      "image/png": "[encoded data removed]",
      "text/plain": [
       "<Figure size 432x288 with 1 Axes>"
      ]
     },
     "metadata": {},
     "output_type": "display_data"
    }
   ],
   "source": [
    "### how much time is Andrew Yang given to speak? ###\n",
    "\n",
    "# how much time does each candidate speak for per debate\n",
    "tpd = df.groupby(['debate_name', 'speaker']).sum()['speaking_time_seconds'] / 60\n",
    "tpd = tpd.groupby('speaker').mean().sort_values()\n",
    "\n",
    "sns.barplot(y = tpd.index, x = tpd)\n",
    "plt.title('How much time each candidate speaks for per debate')\n",
    "plt.xlabel('Time (min)')"
   ]
  },
  {
   "cell_type": "markdown",
   "metadata": {},
   "source": [
    "Now we can see that Andrew Yang clearly has been given a very little amount of speaking opportunities both in the amount of questions given to him as well as the amount of time he has been given. "
   ]
  },
  {
   "cell_type": "markdown",
   "metadata": {},
   "source": [
    "## Feature Extraction\n",
    "\n",
    "Now that we've done our preliminary EDA, let's start analyzing the actual speeches and extract some features."
   ]
  },
  {
   "cell_type": "code",
   "execution_count": 27,
   "metadata": {},
   "outputs": [
    {
     "data": {
      "text/plain": [
       "speaker\n",
       "Amy Klobuchar        bernie and i work together all the time but i ...\n",
       "Andrew Yang          first let me say america its great to be back...\n",
       "Bernie Sanders       because donald trump lies all the time it does...\n",
       "Elizabeth Warren     oh bernie and i have been friends for a long t...\n",
       "Joe Biden            oh they didnt miss anything its a long race ...\n",
       "Michael Bloomberg    i dont think theres any chance of the senato...\n",
       "Pete Buttigieg       im not interested in the labels im not inter...\n",
       "Name: speech, dtype: object"
      ]
     },
     "execution_count": 27,
     "metadata": {},
     "output_type": "execute_result"
    }
   ],
   "source": [
    "### join all speeches for each candidate ###\n",
    "\n",
    "df3 = df.groupby('speaker')['speech'].apply(lambda x: ' '.join(x))\n",
    "word_count = df3.apply(len)\n",
    "\n",
    "df3"
   ]
  },
  {
   "cell_type": "code",
   "execution_count": 28,
   "metadata": {},
   "outputs": [
    {
     "data": {
      "text/html": [
       "<div>\n",
       "<style scoped>\n",
       "    .dataframe tbody tr th:only-of-type {\n",
       "        vertical-align: middle;\n",
       "    }\n",
       "\n",
       "    .dataframe tbody tr th {\n",
       "        vertical-align: top;\n",
       "    }\n",
       "\n",
       "    .dataframe thead th {\n",
       "        text-align: right;\n",
       "    }\n",
       "</style>\n",
       "<table border=\"1\" class=\"dataframe\">\n",
       "  <thead>\n",
       "    <tr style=\"text-align: right;\">\n",
       "      <th></th>\n",
       "      <th>000</th>\n",
       "      <th>000 people</th>\n",
       "      <th>000 people go</th>\n",
       "      <th>09</th>\n",
       "      <th>09 testified</th>\n",
       "      <th>09 testified gave</th>\n",
       "      <th>10</th>\n",
       "      <th>10 bucks</th>\n",
       "      <th>10 bucks hour</th>\n",
       "      <th>100s</th>\n",
       "      <th>...</th>\n",
       "      <th>zip code prek</th>\n",
       "      <th>zip code yang2020com</th>\n",
       "      <th>zone</th>\n",
       "      <th>zone american</th>\n",
       "      <th>zone american president</th>\n",
       "      <th>zone make</th>\n",
       "      <th>zone make sure</th>\n",
       "      <th>zuckerberg</th>\n",
       "      <th>zuckerberg testified</th>\n",
       "      <th>zuckerberg testified congress</th>\n",
       "    </tr>\n",
       "    <tr>\n",
       "      <th>speaker</th>\n",
       "      <th></th>\n",
       "      <th></th>\n",
       "      <th></th>\n",
       "      <th></th>\n",
       "      <th></th>\n",
       "      <th></th>\n",
       "      <th></th>\n",
       "      <th></th>\n",
       "      <th></th>\n",
       "      <th></th>\n",
       "      <th></th>\n",
       "      <th></th>\n",
       "      <th></th>\n",
       "      <th></th>\n",
       "      <th></th>\n",
       "      <th></th>\n",
       "      <th></th>\n",
       "      <th></th>\n",
       "      <th></th>\n",
       "      <th></th>\n",
       "      <th></th>\n",
       "    </tr>\n",
       "  </thead>\n",
       "  <tbody>\n",
       "    <tr>\n",
       "      <th>Amy Klobuchar</th>\n",
       "      <td>0</td>\n",
       "      <td>0</td>\n",
       "      <td>0</td>\n",
       "      <td>0</td>\n",
       "      <td>0</td>\n",
       "      <td>0</td>\n",
       "      <td>0</td>\n",
       "      <td>0</td>\n",
       "      <td>0</td>\n",
       "      <td>0</td>\n",
       "      <td>...</td>\n",
       "      <td>0</td>\n",
       "      <td>0</td>\n",
       "      <td>0</td>\n",
       "      <td>0</td>\n",
       "      <td>0</td>\n",
       "      <td>0</td>\n",
       "      <td>0</td>\n",
       "      <td>0</td>\n",
       "      <td>0</td>\n",
       "      <td>0</td>\n",
       "    </tr>\n",
       "    <tr>\n",
       "      <th>Andrew Yang</th>\n",
       "      <td>0</td>\n",
       "      <td>0</td>\n",
       "      <td>0</td>\n",
       "      <td>0</td>\n",
       "      <td>0</td>\n",
       "      <td>0</td>\n",
       "      <td>0</td>\n",
       "      <td>0</td>\n",
       "      <td>0</td>\n",
       "      <td>0</td>\n",
       "      <td>...</td>\n",
       "      <td>0</td>\n",
       "      <td>1</td>\n",
       "      <td>0</td>\n",
       "      <td>0</td>\n",
       "      <td>0</td>\n",
       "      <td>0</td>\n",
       "      <td>0</td>\n",
       "      <td>1</td>\n",
       "      <td>1</td>\n",
       "      <td>1</td>\n",
       "    </tr>\n",
       "    <tr>\n",
       "      <th>Bernie Sanders</th>\n",
       "      <td>1</td>\n",
       "      <td>1</td>\n",
       "      <td>1</td>\n",
       "      <td>0</td>\n",
       "      <td>0</td>\n",
       "      <td>0</td>\n",
       "      <td>1</td>\n",
       "      <td>1</td>\n",
       "      <td>1</td>\n",
       "      <td>1</td>\n",
       "      <td>...</td>\n",
       "      <td>0</td>\n",
       "      <td>0</td>\n",
       "      <td>0</td>\n",
       "      <td>0</td>\n",
       "      <td>0</td>\n",
       "      <td>0</td>\n",
       "      <td>0</td>\n",
       "      <td>0</td>\n",
       "      <td>0</td>\n",
       "      <td>0</td>\n",
       "    </tr>\n",
       "    <tr>\n",
       "      <th>Elizabeth Warren</th>\n",
       "      <td>0</td>\n",
       "      <td>0</td>\n",
       "      <td>0</td>\n",
       "      <td>0</td>\n",
       "      <td>0</td>\n",
       "      <td>0</td>\n",
       "      <td>0</td>\n",
       "      <td>0</td>\n",
       "      <td>0</td>\n",
       "      <td>0</td>\n",
       "      <td>...</td>\n",
       "      <td>0</td>\n",
       "      <td>0</td>\n",
       "      <td>0</td>\n",
       "      <td>0</td>\n",
       "      <td>0</td>\n",
       "      <td>0</td>\n",
       "      <td>0</td>\n",
       "      <td>0</td>\n",
       "      <td>0</td>\n",
       "      <td>0</td>\n",
       "    </tr>\n",
       "    <tr>\n",
       "      <th>Joe Biden</th>\n",
       "      <td>0</td>\n",
       "      <td>0</td>\n",
       "      <td>0</td>\n",
       "      <td>0</td>\n",
       "      <td>0</td>\n",
       "      <td>0</td>\n",
       "      <td>0</td>\n",
       "      <td>0</td>\n",
       "      <td>0</td>\n",
       "      <td>0</td>\n",
       "      <td>...</td>\n",
       "      <td>1</td>\n",
       "      <td>0</td>\n",
       "      <td>1</td>\n",
       "      <td>0</td>\n",
       "      <td>0</td>\n",
       "      <td>1</td>\n",
       "      <td>1</td>\n",
       "      <td>0</td>\n",
       "      <td>0</td>\n",
       "      <td>0</td>\n",
       "    </tr>\n",
       "    <tr>\n",
       "      <th>Michael Bloomberg</th>\n",
       "      <td>0</td>\n",
       "      <td>0</td>\n",
       "      <td>0</td>\n",
       "      <td>1</td>\n",
       "      <td>1</td>\n",
       "      <td>1</td>\n",
       "      <td>0</td>\n",
       "      <td>0</td>\n",
       "      <td>0</td>\n",
       "      <td>0</td>\n",
       "      <td>...</td>\n",
       "      <td>0</td>\n",
       "      <td>0</td>\n",
       "      <td>0</td>\n",
       "      <td>0</td>\n",
       "      <td>0</td>\n",
       "      <td>0</td>\n",
       "      <td>0</td>\n",
       "      <td>0</td>\n",
       "      <td>0</td>\n",
       "      <td>0</td>\n",
       "    </tr>\n",
       "    <tr>\n",
       "      <th>Pete Buttigieg</th>\n",
       "      <td>0</td>\n",
       "      <td>0</td>\n",
       "      <td>0</td>\n",
       "      <td>0</td>\n",
       "      <td>0</td>\n",
       "      <td>0</td>\n",
       "      <td>0</td>\n",
       "      <td>0</td>\n",
       "      <td>0</td>\n",
       "      <td>0</td>\n",
       "      <td>...</td>\n",
       "      <td>0</td>\n",
       "      <td>0</td>\n",
       "      <td>1</td>\n",
       "      <td>1</td>\n",
       "      <td>1</td>\n",
       "      <td>0</td>\n",
       "      <td>0</td>\n",
       "      <td>0</td>\n",
       "      <td>0</td>\n",
       "      <td>0</td>\n",
       "    </tr>\n",
       "  </tbody>\n",
       "</table>\n",
       "<p>7 rows × 102442 columns</p>\n",
       "</div>"
      ],
      "text/plain": [
       "                   000  000 people  000 people go  09  09 testified  \\\n",
       "speaker                                                               \n",
       "Amy Klobuchar        0           0              0   0             0   \n",
       "Andrew Yang          0           0              0   0             0   \n",
       "Bernie Sanders       1           1              1   0             0   \n",
       "Elizabeth Warren     0           0              0   0             0   \n",
       "Joe Biden            0           0              0   0             0   \n",
       "Michael Bloomberg    0           0              0   1             1   \n",
       "Pete Buttigieg       0           0              0   0             0   \n",
       "\n",
       "                   09 testified gave  10  10 bucks  10 bucks hour  100s  ...  \\\n",
       "speaker                                                                  ...   \n",
       "Amy Klobuchar                      0   0         0              0     0  ...   \n",
       "Andrew Yang                        0   0         0              0     0  ...   \n",
       "Bernie Sanders                     0   1         1              1     1  ...   \n",
       "Elizabeth Warren                   0   0         0              0     0  ...   \n",
       "Joe Biden                          0   0         0              0     0  ...   \n",
       "Michael Bloomberg                  1   0         0              0     0  ...   \n",
       "Pete Buttigieg                     0   0         0              0     0  ...   \n",
       "\n",
       "                   zip code prek  zip code yang2020com  zone  zone american  \\\n",
       "speaker                                                                       \n",
       "Amy Klobuchar                  0                     0     0              0   \n",
       "Andrew Yang                    0                     1     0              0   \n",
       "Bernie Sanders                 0                     0     0              0   \n",
       "Elizabeth Warren               0                     0     0              0   \n",
       "Joe Biden                      1                     0     1              0   \n",
       "Michael Bloomberg              0                     0     0              0   \n",
       "Pete Buttigieg                 0                     0     1              1   \n",
       "\n",
       "                   zone american president  zone make  zone make sure  \\\n",
       "speaker                                                                 \n",
       "Amy Klobuchar                            0          0               0   \n",
       "Andrew Yang                              0          0               0   \n",
       "Bernie Sanders                           0          0               0   \n",
       "Elizabeth Warren                         0          0               0   \n",
       "Joe Biden                                0          1               1   \n",
       "Michael Bloomberg                        0          0               0   \n",
       "Pete Buttigieg                           1          0               0   \n",
       "\n",
       "                   zuckerberg  zuckerberg testified  \\\n",
       "speaker                                               \n",
       "Amy Klobuchar               0                     0   \n",
       "Andrew Yang                 1                     1   \n",
       "Bernie Sanders              0                     0   \n",
       "Elizabeth Warren            0                     0   \n",
       "Joe Biden                   0                     0   \n",
       "Michael Bloomberg           0                     0   \n",
       "Pete Buttigieg              0                     0   \n",
       "\n",
       "                   zuckerberg testified congress  \n",
       "speaker                                           \n",
       "Amy Klobuchar                                  0  \n",
       "Andrew Yang                                    1  \n",
       "Bernie Sanders                                 0  \n",
       "Elizabeth Warren                               0  \n",
       "Joe Biden                                      0  \n",
       "Michael Bloomberg                              0  \n",
       "Pete Buttigieg                                 0  \n",
       "\n",
       "[7 rows x 102442 columns]"
      ]
     },
     "execution_count": 28,
     "metadata": {},
     "output_type": "execute_result"
    }
   ],
   "source": [
    "### feature extraction ###\n",
    "\n",
    "# storing index\n",
    "df3_index = df3.index\n",
    "\n",
    "# setting stopwords\n",
    "stop_words = set(stopwords.words('english'))\n",
    "\n",
    "# vectorizing speeches (we keep all words since we want to see what makes candidates unique)\n",
    "vectorizer = CountVectorizer(stop_words = stop_words, ngram_range = (1, 3))\n",
    "vectorizer.fit(df3)\n",
    "df3 = vectorizer.transform(df3).todense()\n",
    "\n",
    "# bag of words\n",
    "feature_names = vectorizer.get_feature_names()\n",
    "\n",
    "# converting vectorization into dataframe\n",
    "df3 = pd.DataFrame(data = df3, columns = feature_names, index = df3_index)\n",
    "\n",
    "df3"
   ]
  },
  {
   "cell_type": "code",
   "execution_count": 29,
   "metadata": {},
   "outputs": [
    {
     "data": {
      "text/html": [
       "<div>\n",
       "<style scoped>\n",
       "    .dataframe tbody tr th:only-of-type {\n",
       "        vertical-align: middle;\n",
       "    }\n",
       "\n",
       "    .dataframe tbody tr th {\n",
       "        vertical-align: top;\n",
       "    }\n",
       "\n",
       "    .dataframe thead th {\n",
       "        text-align: right;\n",
       "    }\n",
       "</style>\n",
       "<table border=\"1\" class=\"dataframe\">\n",
       "  <thead>\n",
       "    <tr style=\"text-align: right;\">\n",
       "      <th>speaker</th>\n",
       "      <th>Amy Klobuchar</th>\n",
       "      <th>Andrew Yang</th>\n",
       "      <th>Bernie Sanders</th>\n",
       "      <th>Elizabeth Warren</th>\n",
       "      <th>Joe Biden</th>\n",
       "      <th>Michael Bloomberg</th>\n",
       "      <th>Pete Buttigieg</th>\n",
       "    </tr>\n",
       "  </thead>\n",
       "  <tbody>\n",
       "    <tr>\n",
       "      <th>000</th>\n",
       "      <td>0.0</td>\n",
       "      <td>0.0</td>\n",
       "      <td>0.004016</td>\n",
       "      <td>0.0</td>\n",
       "      <td>0.0</td>\n",
       "      <td>0.000000</td>\n",
       "      <td>0.0</td>\n",
       "    </tr>\n",
       "    <tr>\n",
       "      <th>000 people</th>\n",
       "      <td>0.0</td>\n",
       "      <td>0.0</td>\n",
       "      <td>0.004016</td>\n",
       "      <td>0.0</td>\n",
       "      <td>0.0</td>\n",
       "      <td>0.000000</td>\n",
       "      <td>0.0</td>\n",
       "    </tr>\n",
       "    <tr>\n",
       "      <th>000 people go</th>\n",
       "      <td>0.0</td>\n",
       "      <td>0.0</td>\n",
       "      <td>0.004016</td>\n",
       "      <td>0.0</td>\n",
       "      <td>0.0</td>\n",
       "      <td>0.000000</td>\n",
       "      <td>0.0</td>\n",
       "    </tr>\n",
       "    <tr>\n",
       "      <th>09</th>\n",
       "      <td>0.0</td>\n",
       "      <td>0.0</td>\n",
       "      <td>0.000000</td>\n",
       "      <td>0.0</td>\n",
       "      <td>0.0</td>\n",
       "      <td>0.043478</td>\n",
       "      <td>0.0</td>\n",
       "    </tr>\n",
       "    <tr>\n",
       "      <th>09 testified</th>\n",
       "      <td>0.0</td>\n",
       "      <td>0.0</td>\n",
       "      <td>0.000000</td>\n",
       "      <td>0.0</td>\n",
       "      <td>0.0</td>\n",
       "      <td>0.043478</td>\n",
       "      <td>0.0</td>\n",
       "    </tr>\n",
       "  </tbody>\n",
       "</table>\n",
       "</div>"
      ],
      "text/plain": [
       "speaker        Amy Klobuchar  Andrew Yang  Bernie Sanders  Elizabeth Warren  \\\n",
       "000                      0.0          0.0        0.004016               0.0   \n",
       "000 people               0.0          0.0        0.004016               0.0   \n",
       "000 people go            0.0          0.0        0.004016               0.0   \n",
       "09                       0.0          0.0        0.000000               0.0   \n",
       "09 testified             0.0          0.0        0.000000               0.0   \n",
       "\n",
       "speaker        Joe Biden  Michael Bloomberg  Pete Buttigieg  \n",
       "000                  0.0           0.000000             0.0  \n",
       "000 people           0.0           0.000000             0.0  \n",
       "000 people go        0.0           0.000000             0.0  \n",
       "09                   0.0           0.043478             0.0  \n",
       "09 testified         0.0           0.043478             0.0  "
      ]
     },
     "execution_count": 29,
     "metadata": {},
     "output_type": "execute_result"
    }
   ],
   "source": [
    "### scaling ###\n",
    "\n",
    "# transposing dataframe\n",
    "df3 = df3.transpose()\n",
    "\n",
    "# MinMaxScaler\n",
    "scaler = MinMaxScaler()\n",
    "scaler.fit(df3)\n",
    "df3 = scaler.transform(df3)\n",
    "\n",
    "# converting back to dataframe\n",
    "df3 = pd.DataFrame(data = df3, columns = df3_index, index = feature_names)\n",
    "\n",
    "df3.head()"
   ]
  },
  {
   "cell_type": "markdown",
   "metadata": {},
   "source": [
    "Now we have a scaled count of the words spoken by each candidate during the debates. We can now start doing some simple NLP analysis. "
   ]
  },
  {
   "cell_type": "code",
   "execution_count": 30,
   "metadata": {},
   "outputs": [
    {
     "name": "stdout",
     "output_type": "stream",
     "text": [
      "Amy Klobuchar 's top words are' ['think', 'people', 'numnum', 'president', 'one', 'going', 'get', 'would', 'said', 'want']\n",
      "Andrew Yang 's top words are' ['numnum', 'people', 'would', 'country', 'american', 'know', 'us', 'right', 'going', 'trump']\n",
      "Bernie Sanders 's top words are' ['numnum', 'people', 'country', 'got', 'going', 'healthcare', 'right', 'american', 'think', 'trump']\n",
      "Elizabeth Warren 's top words are' ['people', 'numnum', 'need', 'going', 'get', 'america', 'want', 'make', 'every', 'one']\n",
      "Joe Biden 's top words are' ['numnum', 'fact', 'going', 'people', 'get', 'would', 'one', 'president', 'make', 'said']\n",
      "Michael Bloomberg 's top words are' ['numnum', 'get', 'people', 'city', 'going', 'trump', 'go', 'well', 'new', 'make']\n",
      "Pete Buttigieg 's top words are' ['president', 'numnum', 'people', 'going', 'american', 'right', 'us', 'country', 'like', 'one']\n"
     ]
    }
   ],
   "source": [
    "### top words spoken ###\n",
    "\n",
    "for candidate in df3.columns:\n",
    "    \n",
    "    df_candidate = df3[candidate]\n",
    "    df_candidate = df_candidate.sort_values(ascending = False)\n",
    "    bag_candidate = df_candidate.index.tolist()\n",
    "    top_words = bag_candidate[:10]\n",
    "    print(candidate, \"'s top words are'\", top_words)"
   ]
  },
  {
   "cell_type": "markdown",
   "metadata": {},
   "source": [
    "Although we are not experts on politics, we can make some potential insights:\n",
    "* Amy Klobuchar's top word is \"think\" which may indicate that she doesn't speak with as much confidence\n",
    "* \"numnum\" appears in every candidate's top words which makes sense as numbers relate to facts\n",
    "* Bernie Sanders is the only candidate with \"healthcare\" in their top words which relates to his strong push for medicare\n",
    "* Michael Bloomberg is the only candidate with \"city\" in their top words which may indicate a narrow scope\n",
    "* Pete Buttigieg is the only candidate with \"like\" in their top words which may indicate poor speaking skills\n",
    "* Elizabeth Warren is the only candidate without \"president/Trump\" in their top words which may indicate that she speaks about her personal political agenda instead of attacking Trump"
   ]
  },
  {
   "cell_type": "markdown",
   "metadata": {},
   "source": [
    "## Topic Modelling\n",
    "\n",
    "Using GenSim, we will now try to extract some topics from the debates."
   ]
  },
  {
   "cell_type": "code",
   "execution_count": 31,
   "metadata": {},
   "outputs": [
    {
     "data": {
      "text/plain": [
       "0       [didnt, miss, it, long, race, took, hit, iow...\n",
       "1       [know, regard, senat, sander, presid, want, si...\n",
       "2       [donald, trump, li, time, doesnt, matter, don...\n",
       "3       [believ, wai, beat, trump, have, largest, vote...\n",
       "4       [that, true, that, disappoint, think, probab...\n",
       "                              ...                        \n",
       "1459    [lastli, think, it, import, dai, deal, send, ...\n",
       "1460                                    [million, member]\n",
       "1461    [unfortun, rulac, group, latino, group, saw, h...\n",
       "1462    [dont, agre, think, todai, major, countri, ea...\n",
       "1463    [line, real, chang, take, place, take, place, ...\n",
       "Name: speech, Length: 1464, dtype: object"
      ]
     },
     "execution_count": 31,
     "metadata": {},
     "output_type": "execute_result"
    }
   ],
   "source": [
    "### tokenizing speeches ###\n",
    "\n",
    "# extracting speeches only\n",
    "df4 = df['speech']\n",
    "df4 = df4.reset_index(drop = True)\n",
    "df4 = df4.str.replace('numnum', '')\n",
    "\n",
    "# tokenizing speeches\n",
    "for i in range(len(df4)):\n",
    "    df4[i] = preprocess_string(df4[i])\n",
    "\n",
    "df4"
   ]
  },
  {
   "cell_type": "code",
   "execution_count": 32,
   "metadata": {},
   "outputs": [],
   "source": [
    "### creating corpus ###\n",
    "\n",
    "# dictionary\n",
    "dictionary = corpora.Dictionary(df4)\n",
    "\n",
    "# corpus\n",
    "corpus = [dictionary.doc2bow(text) for text in df4]"
   ]
  },
  {
   "cell_type": "code",
   "execution_count": 33,
   "metadata": {},
   "outputs": [],
   "source": [
    "### tfidf vectorization and LDA ###\n",
    "\n",
    "# tfidf fitting\n",
    "tfidf = models.TfidfModel(corpus)\n",
    "\n",
    "# transformation onto corpus\n",
    "tfidf = tfidf[corpus]\n",
    "\n",
    "# LDA\n",
    "lda = models.LdaMulticore(tfidf, num_topics = 10, id2word = dictionary)"
   ]
  },
  {
   "cell_type": "code",
   "execution_count": 34,
   "metadata": {},
   "outputs": [
    {
     "data": {
      "text/plain": [
       "[(0,\n",
       "  '0.004*\"that\\x92\" + 0.003*\"countri\" + 0.003*\"presid\" + 0.003*\"come\" + 0.003*\"trump\" + 0.003*\"chang\" + 0.002*\"peopl\" + 0.002*\"american\" + 0.002*\"wai\" + 0.002*\"thing\"'),\n",
       " (1,\n",
       "  '0.003*\"plan\" + 0.003*\"tax\" + 0.003*\"need\" + 0.003*\"peopl\" + 0.003*\"american\" + 0.003*\"school\" + 0.003*\"want\" + 0.003*\"don\\x92t\" + 0.003*\"fact\" + 0.003*\"it\\x92\"'),\n",
       " (2,\n",
       "  '0.003*\"that\\x92\" + 0.003*\"peopl\" + 0.003*\"state\" + 0.003*\"think\" + 0.003*\"year\" + 0.003*\"need\" + 0.003*\"tell\" + 0.003*\"go\" + 0.003*\"presid\" + 0.003*\"healthcar\"'),\n",
       " (3,\n",
       "  '0.004*\"want\" + 0.003*\"peopl\" + 0.003*\"need\" + 0.003*\"america\" + 0.003*\"year\" + 0.003*\"presid\" + 0.003*\"pai\" + 0.003*\"go\" + 0.003*\"think\" + 0.002*\"healthcar\"'),\n",
       " (4,\n",
       "  '0.003*\"think\" + 0.003*\"presid\" + 0.002*\"got\" + 0.002*\"medicar\" + 0.002*\"know\" + 0.002*\"crosstalk\" + 0.002*\"peopl\" + 0.002*\"elect\" + 0.002*\"year\" + 0.002*\"afford\"'),\n",
       " (5,\n",
       "  '0.003*\"go\" + 0.003*\"know\" + 0.003*\"think\" + 0.003*\"peopl\" + 0.003*\"talk\" + 0.003*\"want\" + 0.003*\"don\\x92t\" + 0.002*\"right\" + 0.002*\"presid\" + 0.002*\"number\"'),\n",
       " (6,\n",
       "  '0.004*\"peopl\" + 0.003*\"presid\" + 0.003*\"go\" + 0.003*\"thing\" + 0.003*\"think\" + 0.003*\"it\\x92\" + 0.003*\"right\" + 0.003*\"like\" + 0.003*\"senat\" + 0.003*\"work\"'),\n",
       " (7,\n",
       "  '0.003*\"peopl\" + 0.003*\"democrat\" + 0.003*\"fight\" + 0.003*\"deal\" + 0.003*\"cost\" + 0.002*\"monei\" + 0.002*\"go\" + 0.002*\"medicar\" + 0.002*\"i\\x92m\" + 0.002*\"want\"'),\n",
       " (8,\n",
       "  '0.004*\"peopl\" + 0.004*\"go\" + 0.003*\"got\" + 0.003*\"american\" + 0.003*\"presid\" + 0.003*\"world\" + 0.002*\"i\\x92m\" + 0.002*\"fight\" + 0.002*\"fact\" + 0.002*\"need\"'),\n",
       " (9,\n",
       "  '0.004*\"go\" + 0.003*\"think\" + 0.003*\"it\\x92\" + 0.003*\"need\" + 0.003*\"i\\x92m\" + 0.002*\"work\" + 0.002*\"peopl\" + 0.002*\"got\" + 0.002*\"insur\" + 0.002*\"presid\"')]"
      ]
     },
     "execution_count": 34,
     "metadata": {},
     "output_type": "execute_result"
    }
   ],
   "source": [
    "### topic modelling ###\n",
    "\n",
    "lda.show_topics()"
   ]
  },
  {
   "cell_type": "markdown",
   "metadata": {},
   "source": [
    "It is hard to make sense of some of the topics since we did not filter through nouns but here are some of the topics we are able to decipher:\n",
    "* education costs\n",
    "* healthcare (insurance and costs)\n",
    "* republican control of president and senate\n",
    "* the president\n",
    "\n",
    "If we are to properly model topics in the future, we would need to filter the words better."
   ]
  },
  {
   "cell_type": "markdown",
   "metadata": {},
   "source": [
    "## Conclusion\n",
    "\n",
    "We have started by wondering what made certain people great at getting their message across but ended finding insights from a variety of less related topics:\n",
    "* candidate Andrew Yang is severely underrepresented in debates both in opportunities to speak, and time given to speak\n",
    "* left leaning candidates seem to speak slower\n",
    "* the top words spoken of each candidate might be indicative of their speaking style and their message/agenda\n",
    "* debates focus on leadership, and the costs of healthcare/education\n",
    "\n",
    "In the future, to improve our analysis, we would like to:\n",
    "* use the final set of debates to complete the analysis\n",
    "* compare to Republican candidate speeches (most likely Trump)\n",
    "* tailor stop words for a deeper analysis (e.g. keeping personal pronouns to see if candidates speak about themselves vs. others)\n",
    "* use only nouns for LDA to better model topics"
   ]
  }
 ],
 "metadata": {
  "kernelspec": {
   "display_name": "Python 3",
   "language": "python",
   "name": "python3"
  },
  "language_info": {
   "codemirror_mode": {
    "name": "ipython",
    "version": 3
   },
   "file_extension": ".py",
   "mimetype": "text/x-python",
   "name": "python",
   "nbconvert_exporter": "python",
   "pygments_lexer": "ipython3",
   "version": "3.7.4"
  }
 },
 "nbformat": 4,
 "nbformat_minor": 4
}
